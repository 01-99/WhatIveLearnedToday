{
 "cells": [
  {
   "cell_type": "code",
   "execution_count": 1,
   "metadata": {
    "dotnet_interactive": {
     "language": "mermaid"
    },
    "vscode": {
     "languageId": "dotnet-interactive.mermaid"
    }
   },
   "outputs": [
    {
     "data": {
      "text/html": [
       "<div class=\"mermaidMarkdownContainer\" style=\"background-color:white\">\r\n",
       "<link rel=\"stylesheet\" href=\"https://cdnjs.cloudflare.com/ajax/libs/font-awesome/6.2.0/css/all.min.css\">\r\n",
       "<script type=\"text/javascript\">\r\n",
       "\r\n",
       "loadMermaid_8974649ea63045458210250ba9bd8579 = () => {\r\n",
       " \r\n",
       "        (require.config({ 'paths': { 'context': '9.1.7', 'mermaidUri' : 'https://cdn.jsdelivr.net/npm/mermaid@9.1.7/dist/mermaid.min', 'urlArgs': 'cacheBuster=ca7d2bf0a7a84fc287356cffed7b28ee' }}) || require)(['mermaidUri'], (mermaid) => {\r\n",
       "\r\n",
       "            let renderTarget = document.getElementById('8974649ea63045458210250ba9bd8579');\r\n",
       "            mermaid.mermaidAPI.render( \r\n",
       "                'mermaid_8974649ea63045458210250ba9bd8579', \r\n",
       "                `sequenceDiagram %% docs for modelling sequence diagrams with mermaid (https://mermaid-js.github.io/mermaid/#/sequenceDiagram?id=syntax)\r\n",
       "   %% participants\r\n",
       "   actor Enduser\r\n",
       "   participant Client\r\n",
       "   participant OIDC Provider\r\n",
       "   \r\n",
       "\r\n",
       "   %% sequence\r\n",
       "   autonumber\r\n",
       "\r\n",
       "Enduser ->> Client : Login\r\n",
       "Client -->> OIDC Provider : Credential Request \r\n",
       "Note over Client,OIDC Provider : ClientId, Redirect URI, Response Type, <br />Scope\r\n",
       "\r\n",
       "OIDC Provider ->> OIDC Provider: Active Session?\r\n",
       "OIDC Provider -->> Client : Credential Response\r\n",
       "\r\n",
       "\r\n",
       "\r\n",
       "Note over Enduser,OIDC Provider : if register\r\n",
       "OIDC Provider ->> Enduser : Show Grants\r\n",
       "Enduser ->>  OIDC Provider : Allow Grants\r\n",
       "OIDC Provider ->> Client : Grants\r\n",
       "Client ->> Client : Save Information\r\n",
       "Note over Enduser,OIDC Provider : end of if register\r\n",
       "\r\n",
       "Client -->> Enduser : Logged In\r\n",
       "   `, \r\n",
       "                g => {\r\n",
       "                    renderTarget.innerHTML = g \r\n",
       "                });\r\n",
       "        },\r\n",
       "        (error) => {\r\n",
       "            console.log(error);\r\n",
       "        });\r\n",
       "}\r\n",
       "// ensure `require` is available globally\r\n",
       "if ((typeof(require) !==  typeof(Function)) || (typeof(require.config) !== typeof(Function))) {\r\n",
       "    let require_script = document.createElement('script');\r\n",
       "    require_script.setAttribute('src', 'https://cdnjs.cloudflare.com/ajax/libs/require.js/2.3.6/require.min.js');\r\n",
       "    require_script.setAttribute('type', 'text/javascript');\r\n",
       "    \r\n",
       "    \r\n",
       "    require_script.onload = function() {\r\n",
       "        loadMermaid_8974649ea63045458210250ba9bd8579();\r\n",
       "    };\r\n",
       "\r\n",
       "    document.getElementsByTagName('head')[0].appendChild(require_script);\r\n",
       "}\r\n",
       "else {\r\n",
       "    loadMermaid_8974649ea63045458210250ba9bd8579();\r\n",
       "}\r\n",
       "\r\n",
       "</script>\r\n",
       "<div id=\"8974649ea63045458210250ba9bd8579\"></div>\r\n",
       "</div>\r\n"
      ]
     },
     "metadata": {},
     "output_type": "display_data"
    }
   ],
   "source": [
    "sequenceDiagram %% docs for modelling sequence diagrams with mermaid (https://mermaid-js.github.io/mermaid/#/sequenceDiagram?id=syntax)\n",
    "   %% participants\n",
    "   actor Enduser\n",
    "   participant Client\n",
    "   participant OIDC Provider\n",
    "   \n",
    "\n",
    "   %% sequence\n",
    "   autonumber\n",
    "\n",
    "Enduser ->> Client : Login\n",
    "Client -->> OIDC Provider : Credential Request \n",
    "Note over Client,OIDC Provider : ClientId, Redirect URI, Response Type, <br />Scope\n",
    "\n",
    "OIDC Provider ->> OIDC Provider: Active Session?\n",
    "OIDC Provider -->> Client : Credential Response\n",
    "\n",
    "\n",
    "\n",
    "Note over Enduser,OIDC Provider : if register\n",
    "OIDC Provider ->> Enduser : Show Grants\n",
    "Enduser ->>  OIDC Provider : Allow Grants\n",
    "OIDC Provider ->> Client : Grants\n",
    "Client ->> Client : Save Information\n",
    "Note over Enduser,OIDC Provider : end of if register\n",
    "\n",
    "Client -->> Enduser : Logged In\n",
    "   "
   ]
  }
 ],
 "metadata": {
  "kernelspec": {
   "display_name": ".NET (C#)",
   "language": "C#",
   "name": ".net-csharp"
  },
  "language_info": {
   "file_extension": ".cs",
   "mimetype": "text/x-csharp",
   "name": "C#",
   "pygments_lexer": "csharp",
   "version": "9.0"
  },
  "orig_nbformat": 4
 },
 "nbformat": 4,
 "nbformat_minor": 2
}
