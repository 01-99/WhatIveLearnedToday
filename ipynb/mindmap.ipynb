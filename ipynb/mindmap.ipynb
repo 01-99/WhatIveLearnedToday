{
 "cells": [
  {
   "cell_type": "code",
   "execution_count": 2,
   "metadata": {
    "dotnet_interactive": {
     "language": "mermaid"
    },
    "vscode": {
     "languageId": "dotnet-interactive.mermaid"
    }
   },
   "outputs": [
    {
     "data": {
      "text/html": [
       "<div class=\"mermaidMarkdownContainer\" style=\"background-color:white\">\r\n",
       "<link rel=\"stylesheet\" href=\"https://cdnjs.cloudflare.com/ajax/libs/font-awesome/6.2.0/css/all.min.css\">\r\n",
       "<script type=\"text/javascript\">\r\n",
       "\r\n",
       "loadMermaid_213108ed6622426fad8726f7baeec7b4 = () => {\r\n",
       " \r\n",
       "        (require.config({ 'paths': { 'context': '9.1.7', 'mermaidUri' : 'https://cdn.jsdelivr.net/npm/mermaid@9.1.7/dist/mermaid.min', 'urlArgs': 'cacheBuster=2c9545e5a3e441b7bdc4a5b795c7961f' }}) || require)(['mermaidUri'], (mermaid) => {\r\n",
       "\r\n",
       "            let renderTarget = document.getElementById('213108ed6622426fad8726f7baeec7b4');\r\n",
       "            mermaid.mermaidAPI.render( \r\n",
       "                'mermaid_213108ed6622426fad8726f7baeec7b4', \r\n",
       "                `mindmap\r\n",
       "  root((mindmap))\r\n",
       "    Origins\r\n",
       "      Long history\r\n",
       "      ::icon(fa fa-book)\r\n",
       "      Popularisation\r\n",
       "        British popular psychology author Tony Buzan\r\n",
       "    Research\r\n",
       "      On effectivness<br/>and features\r\n",
       "      On Automatic creation\r\n",
       "        Uses\r\n",
       "            Creative techniques\r\n",
       "            Strategic planning\r\n",
       "            Argument mapping\r\n",
       "    Tools\r\n",
       "      Pen and paper\r\n",
       "      Mermaid`, \r\n",
       "                g => {\r\n",
       "                    renderTarget.innerHTML = g \r\n",
       "                });\r\n",
       "        },\r\n",
       "        (error) => {\r\n",
       "            console.log(error);\r\n",
       "        });\r\n",
       "}\r\n",
       "// ensure `require` is available globally\r\n",
       "if ((typeof(require) !==  typeof(Function)) || (typeof(require.config) !== typeof(Function))) {\r\n",
       "    let require_script = document.createElement('script');\r\n",
       "    require_script.setAttribute('src', 'https://cdnjs.cloudflare.com/ajax/libs/require.js/2.3.6/require.min.js');\r\n",
       "    require_script.setAttribute('type', 'text/javascript');\r\n",
       "    \r\n",
       "    \r\n",
       "    require_script.onload = function() {\r\n",
       "        loadMermaid_213108ed6622426fad8726f7baeec7b4();\r\n",
       "    };\r\n",
       "\r\n",
       "    document.getElementsByTagName('head')[0].appendChild(require_script);\r\n",
       "}\r\n",
       "else {\r\n",
       "    loadMermaid_213108ed6622426fad8726f7baeec7b4();\r\n",
       "}\r\n",
       "\r\n",
       "</script>\r\n",
       "<div id=\"213108ed6622426fad8726f7baeec7b4\"></div>\r\n",
       "</div>\r\n"
      ]
     },
     "metadata": {},
     "output_type": "display_data"
    }
   ],
   "source": [
    "%% it doesnt work atm with polyglot notebooks %%\n",
    "\n",
    "mindmap\n",
    "  root((mindmap))\n",
    "    Origins\n",
    "      Long history\n",
    "      ::icon(fa fa-book)\n",
    "      Popularisation\n",
    "        British popular psychology author Tony Buzan\n",
    "    Research\n",
    "      On effectivness<br/>and features\n",
    "      On Automatic creation\n",
    "        Uses\n",
    "            Creative techniques\n",
    "            Strategic planning\n",
    "            Argument mapping\n",
    "    Tools\n",
    "      Pen and paper\n",
    "      Mermaid"
   ]
  }
 ],
 "metadata": {
  "kernelspec": {
   "display_name": ".NET (C#)",
   "language": "C#",
   "name": ".net-csharp"
  },
  "language_info": {
   "file_extension": ".cs",
   "mimetype": "text/x-csharp",
   "name": "C#",
   "pygments_lexer": "csharp",
   "version": "9.0"
  },
  "orig_nbformat": 4
 },
 "nbformat": 4,
 "nbformat_minor": 2
}
