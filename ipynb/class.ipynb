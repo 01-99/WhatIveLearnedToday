{
 "cells": [
  {
   "cell_type": "code",
   "execution_count": 1,
   "metadata": {
    "dotnet_interactive": {
     "language": "mermaid"
    },
    "vscode": {
     "languageId": "dotnet-interactive.mermaid"
    }
   },
   "outputs": [
    {
     "data": {
      "text/html": [
       "<div class=\"mermaidMarkdownContainer\" style=\"background-color:white\">\r\n",
       "<link rel=\"stylesheet\" href=\"https://cdnjs.cloudflare.com/ajax/libs/font-awesome/6.2.0/css/all.min.css\">\r\n",
       "<script type=\"text/javascript\">\r\n",
       "\r\n",
       "loadMermaid_82bd5a1e14b04cdda82d561b3590c6fa = () => {\r\n",
       " \r\n",
       "        (require.config({ 'paths': { 'context': '9.1.7', 'mermaidUri' : 'https://cdn.jsdelivr.net/npm/mermaid@9.1.7/dist/mermaid.min', 'urlArgs': 'cacheBuster=242552d02a084fff87016bc313a03255' }}) || require)(['mermaidUri'], (mermaid) => {\r\n",
       "\r\n",
       "            let renderTarget = document.getElementById('82bd5a1e14b04cdda82d561b3590c6fa');\r\n",
       "            mermaid.mermaidAPI.render( \r\n",
       "                'mermaid_82bd5a1e14b04cdda82d561b3590c6fa', \r\n",
       "                `classDiagram\r\n",
       "    Animal <|-- Duck\r\n",
       "    Animal <|-- Fish\r\n",
       "    Animal <|-- Zebra\r\n",
       "    Animal : +int age\r\n",
       "    Animal : +String gender\r\n",
       "    Animal: +isMammal()\r\n",
       "    Animal: +mate()\r\n",
       "    class Duck{\r\n",
       "      +String beakColor\r\n",
       "      +swim()\r\n",
       "      +quack()\r\n",
       "    }\r\n",
       "    class Fish{\r\n",
       "      -int sizeInFeet\r\n",
       "      -canEat()\r\n",
       "    }\r\n",
       "    class Zebra{\r\n",
       "      +bool is_wild\r\n",
       "      +run()\r\n",
       "    }`, \r\n",
       "                g => {\r\n",
       "                    renderTarget.innerHTML = g \r\n",
       "                });\r\n",
       "        },\r\n",
       "        (error) => {\r\n",
       "            console.log(error);\r\n",
       "        });\r\n",
       "}\r\n",
       "// ensure `require` is available globally\r\n",
       "if ((typeof(require) !==  typeof(Function)) || (typeof(require.config) !== typeof(Function))) {\r\n",
       "    let require_script = document.createElement('script');\r\n",
       "    require_script.setAttribute('src', 'https://cdnjs.cloudflare.com/ajax/libs/require.js/2.3.6/require.min.js');\r\n",
       "    require_script.setAttribute('type', 'text/javascript');\r\n",
       "    \r\n",
       "    \r\n",
       "    require_script.onload = function() {\r\n",
       "        loadMermaid_82bd5a1e14b04cdda82d561b3590c6fa();\r\n",
       "    };\r\n",
       "\r\n",
       "    document.getElementsByTagName('head')[0].appendChild(require_script);\r\n",
       "}\r\n",
       "else {\r\n",
       "    loadMermaid_82bd5a1e14b04cdda82d561b3590c6fa();\r\n",
       "}\r\n",
       "\r\n",
       "</script>\r\n",
       "<div id=\"82bd5a1e14b04cdda82d561b3590c6fa\"></div>\r\n",
       "</div>\r\n"
      ]
     },
     "metadata": {},
     "output_type": "display_data"
    }
   ],
   "source": [
    "classDiagram\n",
    "    Animal <|-- Duck\n",
    "    Animal <|-- Fish\n",
    "    Animal <|-- Zebra\n",
    "    Animal : +int age\n",
    "    Animal : +String gender\n",
    "    Animal: +isMammal()\n",
    "    Animal: +mate()\n",
    "    class Duck{\n",
    "      +String beakColor\n",
    "      +swim()\n",
    "      +quack()\n",
    "    }\n",
    "    class Fish{\n",
    "      -int sizeInFeet\n",
    "      -canEat()\n",
    "    }\n",
    "    class Zebra{\n",
    "      +bool is_wild\n",
    "      +run()\n",
    "    }"
   ]
  }
 ],
 "metadata": {
  "kernelspec": {
   "display_name": ".NET (C#)",
   "language": "C#",
   "name": ".net-csharp"
  },
  "language_info": {
   "file_extension": ".cs",
   "mimetype": "text/x-csharp",
   "name": "C#",
   "pygments_lexer": "csharp",
   "version": "9.0"
  },
  "orig_nbformat": 4
 },
 "nbformat": 4,
 "nbformat_minor": 2
}
