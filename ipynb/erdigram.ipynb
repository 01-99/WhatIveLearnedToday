{
 "cells": [
  {
   "cell_type": "code",
   "execution_count": 1,
   "metadata": {
    "dotnet_interactive": {
     "language": "mermaid"
    },
    "vscode": {
     "languageId": "dotnet-interactive.mermaid"
    }
   },
   "outputs": [
    {
     "data": {
      "text/html": [
       "<div class=\"mermaidMarkdownContainer\" style=\"background-color:white\">\r\n",
       "<link rel=\"stylesheet\" href=\"https://cdnjs.cloudflare.com/ajax/libs/font-awesome/6.2.0/css/all.min.css\">\r\n",
       "<script type=\"text/javascript\">\r\n",
       "\r\n",
       "loadMermaid_1f542bc094a8468e9bd0242ec1fa3857 = () => {\r\n",
       " \r\n",
       "        (require.config({ 'paths': { 'context': '9.1.7', 'mermaidUri' : 'https://cdn.jsdelivr.net/npm/mermaid@9.1.7/dist/mermaid.min', 'urlArgs': 'cacheBuster=8ea6577db1674483abda8b012e74dd5d' }}) || require)(['mermaidUri'], (mermaid) => {\r\n",
       "\r\n",
       "            let renderTarget = document.getElementById('1f542bc094a8468e9bd0242ec1fa3857');\r\n",
       "            mermaid.mermaidAPI.render( \r\n",
       "                'mermaid_1f542bc094a8468e9bd0242ec1fa3857', \r\n",
       "                `erDiagram\r\n",
       "    CUSTOMER }|..|{ DELIVERY-ADDRESS : has\r\n",
       "    CUSTOMER ||--o{ ORDER : places\r\n",
       "    CUSTOMER ||--o{ INVOICE : \"liable for\"\r\n",
       "    DELIVERY-ADDRESS ||--o{ ORDER : receives\r\n",
       "    INVOICE ||--|{ ORDER : covers\r\n",
       "    ORDER ||--|{ ORDER-ITEM : includes\r\n",
       "    PRODUCT-CATEGORY ||--|{ PRODUCT : contains\r\n",
       "    PRODUCT ||--o{ ORDER-ITEM : \"ordered in\"`, \r\n",
       "                g => {\r\n",
       "                    renderTarget.innerHTML = g \r\n",
       "                });\r\n",
       "        },\r\n",
       "        (error) => {\r\n",
       "            console.log(error);\r\n",
       "        });\r\n",
       "}\r\n",
       "// ensure `require` is available globally\r\n",
       "if ((typeof(require) !==  typeof(Function)) || (typeof(require.config) !== typeof(Function))) {\r\n",
       "    let require_script = document.createElement('script');\r\n",
       "    require_script.setAttribute('src', 'https://cdnjs.cloudflare.com/ajax/libs/require.js/2.3.6/require.min.js');\r\n",
       "    require_script.setAttribute('type', 'text/javascript');\r\n",
       "    \r\n",
       "    \r\n",
       "    require_script.onload = function() {\r\n",
       "        loadMermaid_1f542bc094a8468e9bd0242ec1fa3857();\r\n",
       "    };\r\n",
       "\r\n",
       "    document.getElementsByTagName('head')[0].appendChild(require_script);\r\n",
       "}\r\n",
       "else {\r\n",
       "    loadMermaid_1f542bc094a8468e9bd0242ec1fa3857();\r\n",
       "}\r\n",
       "\r\n",
       "</script>\r\n",
       "<div id=\"1f542bc094a8468e9bd0242ec1fa3857\"></div>\r\n",
       "</div>\r\n"
      ]
     },
     "metadata": {},
     "output_type": "display_data"
    }
   ],
   "source": [
    "erDiagram\n",
    "    CUSTOMER }|..|{ DELIVERY-ADDRESS : has\n",
    "    CUSTOMER ||--o{ ORDER : places\n",
    "    CUSTOMER ||--o{ INVOICE : \"liable for\"\n",
    "    DELIVERY-ADDRESS ||--o{ ORDER : receives\n",
    "    INVOICE ||--|{ ORDER : covers\n",
    "    ORDER ||--|{ ORDER-ITEM : includes\n",
    "    PRODUCT-CATEGORY ||--|{ PRODUCT : contains\n",
    "    PRODUCT ||--o{ ORDER-ITEM : \"ordered in\""
   ]
  }
 ],
 "metadata": {
  "kernelspec": {
   "display_name": ".NET (C#)",
   "language": "C#",
   "name": ".net-csharp"
  },
  "language_info": {
   "file_extension": ".cs",
   "mimetype": "text/x-csharp",
   "name": "C#",
   "pygments_lexer": "csharp",
   "version": "9.0"
  },
  "orig_nbformat": 4
 },
 "nbformat": 4,
 "nbformat_minor": 2
}
