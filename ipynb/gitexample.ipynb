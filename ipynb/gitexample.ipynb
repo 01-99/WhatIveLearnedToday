{
 "cells": [
  {
   "cell_type": "code",
   "execution_count": 6,
   "metadata": {
    "dotnet_interactive": {
     "language": "mermaid"
    },
    "polyglot_notebook": {
     "kernelName": "mermaid"
    }
   },
   "outputs": [
    {
     "data": {
      "text/html": [
       "<div class=\"mermaidMarkdownContainer\" style=\"background-color:white\">\r\n",
       "<link rel=\"stylesheet\" href=\"https://cdnjs.cloudflare.com/ajax/libs/font-awesome/6.2.0/css/all.min.css\">\r\n",
       "<script type=\"text/javascript\">\r\n",
       "\r\n",
       "loadMermaid_aeeb81aac5ed48c0a87999266aa02203 = () => {\r\n",
       " \r\n",
       "        (require.config({ 'paths': { 'context': '9.1.7', 'mermaidUri' : 'https://cdn.jsdelivr.net/npm/mermaid@9.1.7/dist/mermaid.min', 'urlArgs': 'cacheBuster=d470613d1a8a45889293f23f24fabb80' }}) || require)(['mermaidUri'], (mermaid) => {\r\n",
       "\r\n",
       "            let renderTarget = document.getElementById('aeeb81aac5ed48c0a87999266aa02203');\r\n",
       "            mermaid.mermaidAPI.render( \r\n",
       "                'mermaid_aeeb81aac5ed48c0a87999266aa02203', \r\n",
       "                `%%{init: { 'theme': 'base' } }%%\r\n",
       "gitGraph\r\n",
       "    commit tag: \"v0.4.0\"\r\n",
       "    branch feature\r\n",
       "    checkout main\r\n",
       "    commit\r\n",
       "    branch bugfix\r\n",
       "    commit\r\n",
       "    checkout feature\r\n",
       "    commit id: \"Dark Theme\"\r\n",
       "    checkout main\r\n",
       "    merge feature\r\n",
       "    commit tag: \"v0.4.1\"\r\n",
       "    commit\r\n",
       "    checkout bugfix\r\n",
       "    commit id: \"Fixed Null Ref\"\r\n",
       "    checkout main\r\n",
       "    merge bugfix tag: \"v0.4.2\"\r\n",
       "    checkout bugfix\r\n",
       "    commit id: \"232323\"\r\n",
       "    checkout main\r\n",
       "    merge bugfix tag: \"v0.4.3\"`, \r\n",
       "                g => {\r\n",
       "                    renderTarget.innerHTML = g \r\n",
       "                });\r\n",
       "        },\r\n",
       "        (error) => {\r\n",
       "            console.log(error);\r\n",
       "        });\r\n",
       "}\r\n",
       "// ensure `require` is available globally\r\n",
       "if ((typeof(require) !==  typeof(Function)) || (typeof(require.config) !== typeof(Function))) {\r\n",
       "    let require_script = document.createElement('script');\r\n",
       "    require_script.setAttribute('src', 'https://cdnjs.cloudflare.com/ajax/libs/require.js/2.3.6/require.min.js');\r\n",
       "    require_script.setAttribute('type', 'text/javascript');\r\n",
       "    \r\n",
       "    \r\n",
       "    require_script.onload = function() {\r\n",
       "        loadMermaid_aeeb81aac5ed48c0a87999266aa02203();\r\n",
       "    };\r\n",
       "\r\n",
       "    document.getElementsByTagName('head')[0].appendChild(require_script);\r\n",
       "}\r\n",
       "else {\r\n",
       "    loadMermaid_aeeb81aac5ed48c0a87999266aa02203();\r\n",
       "}\r\n",
       "\r\n",
       "</script>\r\n",
       "<div id=\"aeeb81aac5ed48c0a87999266aa02203\"></div>\r\n",
       "</div>\r\n"
      ]
     },
     "metadata": {},
     "output_type": "display_data"
    }
   ],
   "source": [
    "%%{init: { 'theme': 'base' } }%%\n",
    "gitGraph\n",
    "    commit tag: \"v0.4.0\"\n",
    "    branch feature\n",
    "    checkout main\n",
    "    commit\n",
    "    branch bugfix\n",
    "    commit\n",
    "    checkout feature\n",
    "    commit id: \"Dark Theme\"\n",
    "    checkout main\n",
    "    merge feature\n",
    "    commit tag: \"v0.4.1\"\n",
    "    commit\n",
    "    checkout bugfix\n",
    "    commit id: \"Fixed Null Ref\"\n",
    "    checkout main\n",
    "    merge bugfix tag: \"v0.4.2\"\n",
    "    checkout bugfix\n",
    "    commit id: \"232323\"\n",
    "    checkout main\n",
    "    merge bugfix tag: \"v0.4.3\""
   ]
  }
 ],
 "metadata": {
  "kernelspec": {
   "display_name": ".NET (C#)",
   "language": "C#",
   "name": ".net-csharp"
  },
  "polyglot_notebook": {
   "kernelInfo": {
    "defaultKernelName": "csharp",
    "items": [
     {
      "aliases": [],
      "name": "csharp"
     },
     {
      "aliases": [
       "frontend"
      ],
      "languageName": null,
      "name": "vscode"
     }
    ]
   }
  }
 },
 "nbformat": 4,
 "nbformat_minor": 2
}
