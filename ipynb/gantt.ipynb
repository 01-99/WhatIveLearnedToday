{
 "cells": [
  {
   "cell_type": "code",
   "execution_count": 1,
   "metadata": {
    "dotnet_interactive": {
     "language": "mermaid"
    },
    "vscode": {
     "languageId": "dotnet-interactive.mermaid"
    }
   },
   "outputs": [
    {
     "data": {
      "text/html": [
       "<div class=\"mermaidMarkdownContainer\" style=\"background-color:white\">\r\n",
       "<link rel=\"stylesheet\" href=\"https://cdnjs.cloudflare.com/ajax/libs/font-awesome/6.2.0/css/all.min.css\">\r\n",
       "<script type=\"text/javascript\">\r\n",
       "\r\n",
       "loadMermaid_1e1d41f0c08544e793a4ea2703aef002 = () => {\r\n",
       " \r\n",
       "        (require.config({ 'paths': { 'context': '9.1.7', 'mermaidUri' : 'https://cdn.jsdelivr.net/npm/mermaid@9.1.7/dist/mermaid.min', 'urlArgs': 'cacheBuster=a0ea4f98849b476caa50796b4ad98cee' }}) || require)(['mermaidUri'], (mermaid) => {\r\n",
       "\r\n",
       "            let renderTarget = document.getElementById('1e1d41f0c08544e793a4ea2703aef002');\r\n",
       "            mermaid.mermaidAPI.render( \r\n",
       "                'mermaid_1e1d41f0c08544e793a4ea2703aef002', \r\n",
       "                `gantt\n",
       "    dateFormat  DD.MM.YYYY\n",
       "    axisFormat  KW %U\n",
       "    excludes    weekends\n",
       "    title       Zeitplanung Umsetzung \n",
       "    todayMarker stroke-width:5px,stroke:#0f0,opacity:0.5\n",
       "    \n",
       "    %% Implementierung Prototyp    :active, 01.12.2022, 20d %%\n",
       "    %% Testfälle modellieren       :active, 01.12.2022, 20d %%\n",
       "\n",
       "    Projektstart                :milestone, m0, 02.01.2023, 0d\n",
       "\n",
       "    \n",
       "    Umsetzung Kundendatenbank   :active, u1, 02.01.2023, 12d\n",
       "    Migration Kundendaten       :active, after u1, 2d\n",
       "    Test & Dokumentation        :active, u11, after u1, 2d\n",
       "    Kundendatenbank umgesetzt   :milestone, m1, after u11, 0d\n",
       "\n",
       "  \n",
       "    Umsetzung OIDC              :active, u2, after m1, 25d\n",
       "    Test & Dokumentation        :active, u21, after u2, 2d\n",
       "    OIDC umgesetzt              :milestone, m2,after u21, 0d\n",
       "\n",
       "      \n",
       "    Umsetzung Self-Service      :active, u3, after m2, 10d\n",
       "    Test & Dokumentation        :active, u31, after u3, 2d\n",
       "    Self-Service umgesetzt      :milestone, m3, after u31, 0d\n",
       "\n",
       "\n",
       "    Finaler Datenabgleich       :active, u4, after m3, 1d\n",
       "    Projektende /Livegang       :milestone, m4, after u4, 0d`, \r\n",
       "                g => {\r\n",
       "                    renderTarget.innerHTML = g \r\n",
       "                });\r\n",
       "        },\r\n",
       "        (error) => {\r\n",
       "            console.log(error);\r\n",
       "        });\r\n",
       "}\r\n",
       "// ensure `require` is available globally\r\n",
       "if ((typeof(require) !==  typeof(Function)) || (typeof(require.config) !== typeof(Function))) {\r\n",
       "    let require_script = document.createElement('script');\r\n",
       "    require_script.setAttribute('src', 'https://cdnjs.cloudflare.com/ajax/libs/require.js/2.3.6/require.min.js');\r\n",
       "    require_script.setAttribute('type', 'text/javascript');\r\n",
       "    \r\n",
       "    \r\n",
       "    require_script.onload = function() {\r\n",
       "        loadMermaid_1e1d41f0c08544e793a4ea2703aef002();\r\n",
       "    };\r\n",
       "\r\n",
       "    document.getElementsByTagName('head')[0].appendChild(require_script);\r\n",
       "}\r\n",
       "else {\r\n",
       "    loadMermaid_1e1d41f0c08544e793a4ea2703aef002();\r\n",
       "}\r\n",
       "\r\n",
       "</script>\r\n",
       "<div id=\"1e1d41f0c08544e793a4ea2703aef002\"></div>\r\n",
       "</div>\r\n"
      ]
     },
     "metadata": {},
     "output_type": "display_data"
    }
   ],
   "source": [
    "gantt\n",
    "    dateFormat  DD.MM.YYYY\n",
    "    axisFormat  KW %U\n",
    "    excludes    weekends\n",
    "    title       Zeitplanung Umsetzung \n",
    "    todayMarker stroke-width:5px,stroke:#0f0,opacity:0.5\n",
    "    \n",
    "    %% Implementierung Prototyp    :active, 01.12.2022, 20d %%\n",
    "    %% Testfälle modellieren       :active, 01.12.2022, 20d %%\n",
    "\n",
    "    Projektstart                :milestone, m0, 02.01.2023, 0d\n",
    "\n",
    "    \n",
    "    Umsetzung Kundendatenbank   :active, u1, 02.01.2023, 12d\n",
    "    Migration Kundendaten       :active, after u1, 2d\n",
    "    Test & Dokumentation        :active, u11, after u1, 2d\n",
    "    Kundendatenbank umgesetzt   :milestone, m1, after u11, 0d\n",
    "\n",
    "  \n",
    "    Umsetzung OIDC              :active, u2, after m1, 25d\n",
    "    Test & Dokumentation        :active, u21, after u2, 2d\n",
    "    OIDC umgesetzt              :milestone, m2,after u21, 0d\n",
    "\n",
    "      \n",
    "    Umsetzung Self-Service      :active, u3, after m2, 10d\n",
    "    Test & Dokumentation        :active, u31, after u3, 2d\n",
    "    Self-Service umgesetzt      :milestone, m3, after u31, 0d\n",
    "\n",
    "\n",
    "    Finaler Datenabgleich       :active, u4, after m3, 1d\n",
    "    Projektende /Livegang       :milestone, m4, after u4, 0d"
   ]
  }
 ],
 "metadata": {
  "kernelspec": {
   "display_name": ".NET (C#)",
   "language": "C#",
   "name": ".net-csharp"
  },
  "language_info": {
   "file_extension": ".cs",
   "mimetype": "text/x-csharp",
   "name": "C#",
   "pygments_lexer": "csharp",
   "version": "9.0"
  },
  "orig_nbformat": 4,
  "vscode": {
   "interpreter": {
    "hash": "5cb503efd960271be67ec38e7a14f2b48f658146df2511ab9fae733e5fd8f911"
   }
  }
 },
 "nbformat": 4,
 "nbformat_minor": 2
}
