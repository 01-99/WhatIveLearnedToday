{
 "cells": [
  {
   "cell_type": "code",
   "execution_count": 1,
   "metadata": {
    "dotnet_interactive": {
     "language": "mermaid"
    },
    "vscode": {
     "languageId": "dotnet-interactive.mermaid"
    }
   },
   "outputs": [
    {
     "data": {
      "text/html": [
       "<div class=\"mermaidMarkdownContainer\" style=\"background-color:white\">\r\n",
       "<link rel=\"stylesheet\" href=\"https://cdnjs.cloudflare.com/ajax/libs/font-awesome/6.2.0/css/all.min.css\">\r\n",
       "<script type=\"text/javascript\">\r\n",
       "\r\n",
       "loadMermaid_27832eb52ef54a4680ed0f2b5a28fda7 = () => {\r\n",
       " \r\n",
       "        (require.config({ 'paths': { 'context': '9.1.7', 'mermaidUri' : 'https://cdn.jsdelivr.net/npm/mermaid@9.1.7/dist/mermaid.min', 'urlArgs': 'cacheBuster=cb164ee84d834d20929fe1d816b3718c' }}) || require)(['mermaidUri'], (mermaid) => {\r\n",
       "\r\n",
       "            let renderTarget = document.getElementById('27832eb52ef54a4680ed0f2b5a28fda7');\r\n",
       "            mermaid.mermaidAPI.render( \r\n",
       "                'mermaid_27832eb52ef54a4680ed0f2b5a28fda7', \r\n",
       "                `graph TD\r\n",
       "    A[Christmas] -->|Get money| B(Go shopping)\r\n",
       "    B --> C{Let me think}\r\n",
       "    C -->|One| D[Laptop]\r\n",
       "    C -->|Two| E[iPhone]\r\n",
       "    C -->|Three| F[fa:fa-car Car]\r\n",
       "  `, \r\n",
       "                g => {\r\n",
       "                    renderTarget.innerHTML = g \r\n",
       "                });\r\n",
       "        },\r\n",
       "        (error) => {\r\n",
       "            console.log(error);\r\n",
       "        });\r\n",
       "}\r\n",
       "// ensure `require` is available globally\r\n",
       "if ((typeof(require) !==  typeof(Function)) || (typeof(require.config) !== typeof(Function))) {\r\n",
       "    let require_script = document.createElement('script');\r\n",
       "    require_script.setAttribute('src', 'https://cdnjs.cloudflare.com/ajax/libs/require.js/2.3.6/require.min.js');\r\n",
       "    require_script.setAttribute('type', 'text/javascript');\r\n",
       "    \r\n",
       "    \r\n",
       "    require_script.onload = function() {\r\n",
       "        loadMermaid_27832eb52ef54a4680ed0f2b5a28fda7();\r\n",
       "    };\r\n",
       "\r\n",
       "    document.getElementsByTagName('head')[0].appendChild(require_script);\r\n",
       "}\r\n",
       "else {\r\n",
       "    loadMermaid_27832eb52ef54a4680ed0f2b5a28fda7();\r\n",
       "}\r\n",
       "\r\n",
       "</script>\r\n",
       "<div id=\"27832eb52ef54a4680ed0f2b5a28fda7\"></div>\r\n",
       "</div>\r\n"
      ]
     },
     "metadata": {},
     "output_type": "display_data"
    }
   ],
   "source": [
    "graph TD\n",
    "    A[Christmas] -->|Get money| B(Go shopping)\n",
    "    B --> C{Let me think}\n",
    "    C -->|One| D[Laptop]\n",
    "    C -->|Two| E[iPhone]\n",
    "    C -->|Three| F[fa:fa-car Car]\n",
    "  "
   ]
  }
 ],
 "metadata": {
  "kernelspec": {
   "display_name": ".NET (C#)",
   "language": "C#",
   "name": ".net-csharp"
  },
  "language_info": {
   "file_extension": ".cs",
   "mimetype": "text/x-csharp",
   "name": "C#",
   "pygments_lexer": "csharp",
   "version": "9.0"
  },
  "orig_nbformat": 4
 },
 "nbformat": 4,
 "nbformat_minor": 2
}
